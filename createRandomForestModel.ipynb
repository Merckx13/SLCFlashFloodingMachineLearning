{
 "cells": [
  {
   "cell_type": "markdown",
   "metadata": {},
   "source": [
    "This code was taken directly from the Python script within the \"Random Forest\" folder of this project. It was not written with a jupyter notebook in mind, but seems to run okay in this environment. In present form, about half is lifted from Nick's original work, and half is mine (Darren's) addition/modifications.\n",
    "\n",
    "This script is used to create a random forest model, training days of observed flash flood to several kinematic and thermodynamic variables as forecasted by the NAM BUFR sounding during daylight hours. \n",
    "\n",
    "First, we will import a number of common modules"
   ]
  },
  {
   "cell_type": "code",
   "execution_count": 29,
   "metadata": {},
   "outputs": [],
   "source": [
    "%matplotlib inline\n",
    "import sys, os\n",
    "import glob\n",
    "import pandas as pd\n",
    "import numpy as np\n",
    "from sklearn import metrics\n",
    "from sklearn.metrics import cohen_kappa_score as kappa\n",
    "import sklearn.ensemble as ens\n",
    "from sklearn.model_selection import train_test_split\n",
    "import matplotlib.pyplot as plt\n",
    "from scipy import stats\n",
    "from datetime import datetime\n",
    "import pickle\n",
    "from sklearn.metrics import brier_score_loss\n",
    "from sklearn.calibration import calibration_curve\n",
    "from sklearn.model_selection import RandomizedSearchCV"
   ]
  },
  {
   "cell_type": "markdown",
   "metadata": {},
   "source": [
    "Now, set some basic parameters, e.g. the years that are available to us in the csv spreadsheet, the sites we will use, the parameters available in the CSV, etc."
   ]
  },
  {
   "cell_type": "code",
   "execution_count": 30,
   "metadata": {},
   "outputs": [],
   "source": [
    "availableYears = [2011, 2012, 2013, 2014, 2015, 2016, 2017, 2018]\n",
    "\n",
    "sites = [\"K4HV\",\"KBCE\",\"KPGA\",\"KSGU\"]\n",
    "\n",
    "THERMO = ['MUCAPE', 'DCAPE', '7-5LR', 'LCL','PW', 'MeanRH','DD', 'WC', 'SfcTd', 'SfcT']\n",
    "\n",
    "KIN = ['0-6km Shear Dir', '0-6km Shear Mag', 'C Dn Dir',\n",
    "       'C Dn Mag', 'C Up Dir', 'C Up Mag', 'SM Dir','SM Mag',\n",
    "       'MW Dir','MW Mag', '4-6km dir',\n",
    "       '4-6km mag']\n",
    "\n",
    "# If a random split is used, different percentages for the testing portion can be used\n",
    "# Currently, both 'drier' and 'wetter' sites are set to use the same % for testing\n",
    "drySites = [\"K4HV\",\"KSGU\"]\n",
    "drySitesPercentage = 30\n",
    "wetSitesPercentage = 30\n",
    "# Default to the wetter sites percentage\n",
    "percentToTest = wetSitesPercentage"
   ]
  },
  {
   "cell_type": "markdown",
   "metadata": {},
   "source": [
    "This section sets the various options for the output random forest model. It was designed to be run from a command line, hence the prompts. The prompts still seem to work in this environment, so they have been left as is.\n",
    "\n",
    "This has been designed so the most commonly used options are the defaults, and they can be achieved by hitting the Enter key. So, basically just hit the enter key a number of times to advance through the prompts."
   ]
  },
  {
   "cell_type": "code",
   "execution_count": null,
   "metadata": {},
   "outputs": [
    {
     "name": "stdin",
     "output_type": "stream",
     "text": [
      "Select a method to divide the training data. \n",
      "    Enter '1' for random, '2' or just <enter> for specific years:  \n"
     ]
    },
    {
     "name": "stdout",
     "output_type": "stream",
     "text": [
      "\n",
      "\n"
     ]
    },
    {
     "name": "stdin",
     "output_type": "stream",
     "text": [
      "Enter years for training, either comma separated for each year or a range divided by a dash. \n",
      "    Default is '2011-2015' for training, or just <enter>:  \n"
     ]
    },
    {
     "name": "stdout",
     "output_type": "stream",
     "text": [
      "\n",
      "\n"
     ]
    },
    {
     "name": "stdin",
     "output_type": "stream",
     "text": [
      "Run on each subdivided group of basins (e.g. KSGU) or all at once (KBCE only)?\n",
      "   If running on all at once, you will have the option to run the program iteratively\n",
      "   to obtain a desired skill level.\n",
      "   Enter '1' to see the results for each basin, '2' or just <enter> for all in one:\n",
      "  \n"
     ]
    },
    {
     "name": "stdout",
     "output_type": "stream",
     "text": [
      "\n",
      "\n"
     ]
    },
    {
     "name": "stdin",
     "output_type": "stream",
     "text": [
      "Select a model for the BUFR sounding. \n",
      "   Enter '1' for RAP, '2' or just <enter> for NAM:  \n"
     ]
    },
    {
     "name": "stdout",
     "output_type": "stream",
     "text": [
      "\n",
      "\n"
     ]
    },
    {
     "name": "stdin",
     "output_type": "stream",
     "text": [
      "Display reliability plot of # of flooding vs probabilistic output? \n",
      "   Enter '1' for no, '2' or just <enter> for yes:  \n"
     ]
    },
    {
     "name": "stdout",
     "output_type": "stream",
     "text": [
      "\n",
      "\n"
     ]
    },
    {
     "name": "stdin",
     "output_type": "stream",
     "text": [
      "Calculate stats for RRA and blended RRA/RandomForest? \n",
      "   Enter '1' for no, '2' or just <enter> for yes:  \n"
     ]
    },
    {
     "name": "stdout",
     "output_type": "stream",
     "text": [
      "\n",
      "\n"
     ]
    },
    {
     "name": "stdin",
     "output_type": "stream",
     "text": [
      "Search for optimal hyperparameters (increases runtime)? \n",
      "   Note: 1 season will be subtracted from the training dataset for this\n",
      "   Enter '1' for yes, '2' or just <enter> for no:  \n"
     ]
    },
    {
     "name": "stdout",
     "output_type": "stream",
     "text": [
      "\n",
      "\n"
     ]
    },
    {
     "name": "stdin",
     "output_type": "stream",
     "text": [
      "Save the Random Forest Model for the RRA tool? \n",
      "   Enter '1' for yes, '2' or just <enter> for no:  \n"
     ]
    },
    {
     "name": "stdout",
     "output_type": "stream",
     "text": [
      "\n",
      "\n"
     ]
    }
   ],
   "source": [
    "response = input(\"Select a method to divide the training data. \\n\" + \\\n",
    "                 \"    Enter '1' for random, '2' or just <enter> for specific years: \")\n",
    "print('\\n')\n",
    "\n",
    "if len(response) == 0 or response == '2':\n",
    "   response2 = input(\"Enter years for training, either comma separated for each year or a range divided by a dash. \\n\" +\n",
    "               \"    Default is '2011-2015' for training, or just <enter>: \")\n",
    "   print('\\n')\n",
    "   if ',' in response2:\n",
    "      trainingYearsList = list(map(int, response2.split(\",\")))\n",
    "   elif '-' in response2:\n",
    "      firstYear = datetime.strptime(str(response2[0:response2.find('-')]),'%Y')\n",
    "      secondYear = datetime.strptime(str(response2[response2.find('-')+1:len(response2)]),'%Y')\n",
    "      trainingYearsList = range(firstYear.year, secondYear.year+1)\n",
    "   elif len(response2) == 0:\n",
    "      trainingYearsList = [2011, 2012, 2013, 2014, 2015]\n",
    "   else:\n",
    "      print(\"please use the format indicated in the prompts\")\n",
    "      sys.exit()   \n",
    "   testingYearsList = [x for x in availableYears if x not in trainingYearsList]\n",
    "\n",
    "response3 = input(\"Run on each subdivided group of basins (e.g. KSGU) or all at once (KBCE only)?\\n\" + \\\n",
    "                  \"   If running on all at once, you will have the option to run the program iteratively\\n\" + \\\n",
    "                  \"   to obtain a desired skill level.\\n\" + \\\n",
    "                  \"   Enter '1' to see the results for each basin, '2' or just <enter> for all in one:\\n \") \n",
    "print('\\n')\n",
    "response4 = input(\"Select a model for the BUFR sounding. \\n\" + \\\n",
    "                  \"   Enter '1' for RAP, '2' or just <enter> for NAM: \")\n",
    "print('\\n')\n",
    "response5 = input(\"Display reliability plot of # of flooding vs probabilistic output? \\n\" + \\\n",
    "                  \"   Enter '1' for no, '2' or just <enter> for yes: \")\n",
    "print('\\n')\n",
    "response6 = input(\"Calculate stats for RRA and blended RRA/RandomForest? \\n\" + \\\n",
    "                  \"   Enter '1' for no, '2' or just <enter> for yes: \")\n",
    "print('\\n')\n",
    "response7 = input(\"Search for optimal hyperparameters (increases runtime)? \\n\" + \\\n",
    "                  \"   Note: 1 season will be subtracted from the training dataset for this\\n\" + \\\n",
    "                  \"   Enter '1' for yes, '2' or just <enter> for no: \")\n",
    "print('\\n') \n",
    "response8 = input(\"Save the Random Forest Model for the RRA tool? \\n\" + \\\n",
    "                  \"   Enter '1' for yes, '2' or just <enter> for no: \")\n",
    "print('\\n')\n",
    "response9 = input(\"Use XGBoost in place of standard random forest? \\n\" + \\\n",
    "                  \"   Enter '1' for yes, '2' or just <enter> for no: \")\n",
    "print('\\n')"
   ]
  },
  {
   "cell_type": "markdown",
   "metadata": {},
   "source": [
    "This subroutine handles the creation of reliability plots."
   ]
  },
  {
   "cell_type": "code",
   "execution_count": 25,
   "metadata": {},
   "outputs": [],
   "source": [
    "def createReliabilityPlots(site, response5, response6, ytest, yprob, yprob2, yprob3):\n",
    "      if response5 == '2' or len(response5) == 0:\n",
    "         clf_score = brier_score_loss(ytest, yprob)\n",
    "         fraction_of_positives, mean_predicted_value = calibration_curve(ytest, yprob, n_bins=10)\n",
    "         plt.plot([0, 1], [0, 1], \"k:\", label=\"Perfectly Calibrated\")\n",
    "         plt.plot(mean_predicted_value, fraction_of_positives, \"s-\", label=\"%s (%1.3f)\" % (\"Random Forest Model for \" + site, clf_score))\n",
    "         plt.legend(loc='best')\n",
    "         # Add plots for legacy RRA product comparison, if requested\n",
    "         if response6 == '2' or len(response6) == 0:\n",
    "            clf_score = brier_score_loss(ytest, yprob2)\n",
    "            plt.figure() \n",
    "            fraction_of_positives, mean_predicted_value = calibration_curve(ytest, yprob2, n_bins=10)\n",
    "            plt.plot([0, 1], [0, 1], \"k:\", label=\"Perfectly Calibrated\")\n",
    "            plt.plot(mean_predicted_value, fraction_of_positives, \"s-\", label=\"%s (%1.3f)\" % (\"Legacy RRA\", clf_score))\n",
    "            plt.legend(loc='best')\n",
    "\n",
    "            clf_score = brier_score_loss(ytest, yprob3)\n",
    "            plt.figure() \n",
    "            fraction_of_positives, mean_predicted_value = calibration_curve(ytest, yprob3, n_bins=10)\n",
    "            plt.plot([0, 1], [0, 1], \"k:\", label=\"Perfectly Calibrated\")\n",
    "            plt.plot(mean_predicted_value, fraction_of_positives, \"s-\", label=\"%s (%1.3f)\" % (\"Blended RRA & Random Forest\", clf_score))\n",
    "            plt.legend(loc='best')"
   ]
  },
  {
   "cell_type": "markdown",
   "metadata": {},
   "source": [
    "The optional subroutine handles tuning of hyperparameters."
   ]
  },
  {
   "cell_type": "code",
   "execution_count": 26,
   "metadata": {},
   "outputs": [],
   "source": [
    "def tuneHyperparameters(xtrain, ytrain):\n",
    "    n_estimators = [int(x) for x in np.linspace(start = 200, stop = 20000, num = 10)]\n",
    "    max_features = ['auto', 'sqrt']\n",
    "    max_depth = [int(x) for x in np.linspace(10, 110, num = 11)]\n",
    "    min_samples_split = [2, 5, 10]\n",
    "    min_samples_leaf = [1, 2, 4]\n",
    "    bootstrap = [True, False]\n",
    "    \n",
    "    random_grid = {'n_estimators': n_estimators, 'max_features': max_features, 'max_depth': max_depth,\n",
    "                   'min_samples_split': min_samples_split, 'min_samples_leaf': min_samples_leaf,\n",
    "                   'bootstrap': bootstrap}\n",
    "    \n",
    "    # Option to use a 'traditional' random forest, or boosted gradient trees via XGBoost\n",
    "    if len(response9) == 0 or response9 == '2':\n",
    "        clf = ens.RandomForestClassifier()\n",
    "        max_depth.append(None) # Per error message, this seems to only be applicable to the RandomForestClassifier\n",
    "    elif response9 == '1': \n",
    "        import xgboost as xgb\n",
    "        clf = xgb.XGBClassifier()\n",
    "    \n",
    "    clfRandom = RandomizedSearchCV(estimator = clf, param_distributions = random_grid, n_iter = 100,\n",
    "                                   cv = 3, random_state = 42, n_jobs = -1)\n",
    "    clfRandom.fit(xtrain, ytrain)\n",
    "    print(clfRandom.best_params_)\n",
    "    return(clfRandom)"
   ]
  },
  {
   "cell_type": "markdown",
   "metadata": {},
   "source": [
    "Open the appropriate CSV files for the selected model"
   ]
  },
  {
   "cell_type": "code",
   "execution_count": 27,
   "metadata": {},
   "outputs": [],
   "source": [
    "if len(response4) == 0 or response4 == '2':\n",
    "   model = \"NAM\"\n",
    "else:\n",
    "   model = \"RAP\"\n",
    "\n",
    "# Allow for the path from either the top level directory, or the Random Forest folder\n",
    "if os.path.isdir('csv'):\n",
    "    filePathPreprend = 'csv'\n",
    "else:\n",
    "    filePathPreprend = '../csv'\n",
    "\n",
    "# Open the selected model's csv location\n",
    "if model == \"NAM\":\n",
    "   fileString = filePathPreprend + '/*.csv'\n",
    "elif model == \"RAP\":\n",
    "   fileString = filePathPreprend + '/*full_clean.csv'"
   ]
  },
  {
   "cell_type": "markdown",
   "metadata": {},
   "source": [
    "This is where the bulk of the work is done. Loop through each CSV, find whether it matches the site of choice, then run the random forest creation."
   ]
  },
  {
   "cell_type": "code",
   "execution_count": 28,
   "metadata": {},
   "outputs": [
    {
     "name": "stdout",
     "output_type": "stream",
     "text": [
      "\n",
      "\n",
      "\n",
      "FFW model results for KBCE using the NAM, testing on [2016, 2017, 2018]\n",
      "--Probabilistic Verification--\n",
      "Brier Score 0.04, AUC = 0.86 \n",
      "--Deterministic Verification--\n",
      "Accuracy = 0.96, Cohen's Kappa -0.01\n",
      "                      No Flooding Forecast  Flooding Forecast\n",
      "No Flooding Observed                   483                  2\n",
      "Flooding Observed                       17                  0\n",
      "\n",
      "SLC RRA verification for KBCE using the NAM, testing on [2016, 2017, 2018]\n",
      "--Probabilistic Verification--\n",
      "Brier Score 0.10, AUC = 0.85 \n",
      "--Deterministic Verification--\n",
      "Accuracy = 0.92, Cohen's Kappa 0.32\n",
      "                      No Flooding Forecast  Flooding Forecast\n",
      "No Flooding Observed                   451                 34\n",
      "Flooding Observed                        6                 11\n",
      "\n",
      "SLC combined verification for KBCE using the NAM, testing on [2016, 2017, 2018]\n",
      "--Probabilistic Verification--\n",
      "Brier Score 0.05, AUC = 0.88 \n",
      "--Deterministic Verification--\n",
      "Accuracy = 0.96, Cohen's Kappa -0.01\n",
      "                      No Flooding Forecast  Flooding Forecast\n",
      "No Flooding Observed                   483                  2\n",
      "Flooding Observed                       17                  0\n",
      "\n",
      "\n",
      "\n"
     ]
    },
    {
     "data": {
      "image/png": "[encoded data removed]",
      "text/plain": [
       "<Figure size 432x288 with 1 Axes>"
      ]
     },
     "metadata": {
      "needs_background": "light"
     },
     "output_type": "display_data"
    },
    {
     "data": {
      "image/png": "[encoded data removed]",
      "text/plain": [
       "<Figure size 432x288 with 1 Axes>"
      ]
     },
     "metadata": {
      "needs_background": "light"
     },
     "output_type": "display_data"
    },
    {
     "data": {
      "image/png": "[encoded data removed]",
      "text/plain": [
       "<Figure size 432x288 with 1 Axes>"
      ]
     },
     "metadata": {
      "needs_background": "light"
     },
     "output_type": "display_data"
    }
   ],
   "source": [
    "for csv in glob.glob(fileString):\n",
    "   \n",
    "    probabilisticOutput = []\n",
    "    deterministicOutput = []\n",
    "\n",
    "    # Find the site name and fix if necessary\n",
    "    if model == \"NAM\":\n",
    "       site = csv[-8:-4]\n",
    "    elif model == \"RAP\":\n",
    "       site = csv[-19:-15]\n",
    "    if site == '/4HV':\n",
    "       site = 'K4HV'\n",
    "    elif site == '4HV_':\n",
    "       site = 'K4HV'\n",
    "\n",
    "    # Only use the KBCE site if that's what was requested     \n",
    "    if response3 == '2' or len(response3) == 0:\n",
    "       if site != 'KBCE':\n",
    "          continue\n",
    "\n",
    "    if site in drySites:\n",
    "       percentToTest = drySitesPercentage\n",
    "    else:\n",
    "       percentToTest = wetSitesPercentage\n",
    "\n",
    "    df = pd.read_csv(csv)\n",
    "      \n",
    "    # This was in Nick's code. It calls three basins flooding a flash flood day for KBCE (all), and 1 basin\n",
    "    # a hit for 4HV/SGU. Mike may want to review this.\n",
    "    #if site == 'KBCE':\n",
    "    #    df.loc[(df['Basins'] >= 2), 'Result'] = 1\n",
    "    #    df.loc[(df['Basins'] < 2), 'Result'] = 0   \n",
    "    #else:\n",
    "    #    df.loc[(df['Basins'] >= 1), 'Result'] = 1\n",
    "    #    df.loc[(df['Basins'] < 1), 'Result'] = 0\n",
    "    if site == 'KBCE':\n",
    "        df.loc[(df['Basins'] >= 3), 'Result'] = 1\n",
    "        df.loc[(df['Basins'] < 3), 'Result'] = 0\n",
    "    if '4HV' or 'SGU' or 'PGA' in site_name:\n",
    "        df.loc[(df['Basins'] >= 1), 'Result'] = 1\n",
    "        df.loc[(df['Basins'] < 1), 'Result'] = 0\n",
    "\n",
    "    \n",
    "    # Make a new dataframe that removes any dates with missing entries, set up the predictor & predictands   \n",
    "    df2 = df.dropna(subset=KIN + THERMO + ['Basins'] + ['Result'] + ['deterministicRRA'] + ['probabilisticRRA'])  \n",
    "    result = df2['Result']\n",
    "    predictors = df2[THERMO + KIN]\n",
    "\n",
    "    # Random split of dates option, otherwise use fixed dates\n",
    "    if response == '1': \n",
    "        xtrain, xtest, ytrain, ytest = train_test_split(predictors, result, test_size = percentToTest/100)\n",
    "        test_df = df.iloc[xtest.index.tolist()]\n",
    "    elif len(response) == 0 or response == '2':\n",
    "        # Slightly convoluted way to use the years the user specifies\n",
    "        training_df = df2\n",
    "        test_df = df2\n",
    "        for year in testingYearsList:\n",
    "            training_df = training_df[training_df['Year'] != year]\n",
    "        for year in trainingYearsList:\n",
    "            test_df = test_df[test_df['Year'] != year]\n",
    "        xtrain = training_df[THERMO + KIN]\n",
    "        xtest = test_df[THERMO + KIN]\n",
    "        ytrain = training_df['Result']\n",
    "        ytest = test_df['Result']\n",
    "\n",
    "    # Create a random forest model using a default set of hyperparameters. If the user specifies, \n",
    "    # tune the hyperparameters first\n",
    "    if len(response7) == 0 or response7 == '2':\n",
    "        \n",
    "        # Option to use a 'traditional' random forest, or boosted gradient trees via XGBoost\n",
    "        if len(response9) == 0 or response9 == '2':\n",
    "            # The hyperparameters below are from running hyperparmeter optimization for KBCE\n",
    "            clf = ens.RandomForestClassifier(n_estimators=2400, max_depth=30, min_samples_leaf=1,\n",
    "                                             min_samples_split=5,oob_score=True,class_weight='balanced')\n",
    "        elif response9 == '1':\n",
    "            import xgboost as xgb\n",
    "            # The hyperparameters below are from running hyperparmeter optimization for KBCE\n",
    "            clf = xgb.XGBClassifier(n_estimators=20000, min_samples_split=10, min_samples_leaf=2, \n",
    "                                    max_features='sqrt', max_depth=10, bootstrap=True)\n",
    "        clf.fit(xtrain, ytrain)\n",
    "            \n",
    "    else:\n",
    "        # We will need to remove a year to use for validation, assuming test/training are split by years\n",
    "        # Simply removing last year of training for now\n",
    "        if len(response) == 0 or response == '2':\n",
    "            validationYear = trainingYearsList[-1]\n",
    "            validation_df = df2\n",
    "            validation_df = validation_df[validation_df['Year'] == validationYear]\n",
    "            xvalidation = validation_df[THERMO + KIN]\n",
    "            yvalidation = validation_df['Result']\n",
    "            clf = tuneHyperparameters(xvalidation, yvalidation) \n",
    "            \n",
    "            # We'll have to remove the year we used for validation from the training period\n",
    "            training_df = training_df[training_df['Year'] != validationYear]\n",
    "            xtrain = training_df[THERMO + KIN]\n",
    "            ytrain = training_df['Result']\n",
    "           \n",
    "\n",
    "    # Run the model on the data, and collect a number of verification metrics      \n",
    "    y_pred = clf.predict(xtest)\n",
    "    accuracy = metrics.accuracy_score(ytest, y_pred)\n",
    "    yprob = clf.predict_proba(xtest)[0:, 1]\n",
    "    brier_score = metrics.brier_score_loss(ytest, yprob)\n",
    "    auc = metrics.roc_auc_score(ytest, yprob)\n",
    "    cm = metrics.confusion_matrix(ytest, y_pred)\n",
    "    index_names = ['No Flooding Observed', 'Flooding Observed']\n",
    "    col_names = ['No Flooding Forecast', 'Flooding Forecast']\n",
    "    cm_df = pd.DataFrame(cm, columns =col_names, index=index_names)\n",
    "    ck = kappa(ytest, y_pred)\n",
    "    print('\\n\\n')\n",
    "    if 'trainingYearsList' in locals():\n",
    "        print('FFW model results for ' + site + ' using the ' + model + ', testing on ' + str(testingYearsList))\n",
    "    else:\n",
    "        print('FFW model results for ' + site + ' using the ' + model + ', testing on ' + str(percentToTest) + '% of the 2011-2018 dataset')\n",
    "    print('--Probabilistic Verification--')\n",
    "    print('Brier Score {:3.2f}, '.format(brier_score) + 'AUC = {:3.2f} '.format(auc))\n",
    "    print('--Deterministic Verification--')\n",
    "    print('Accuracy = {:3.2f}, '.format(accuracy) + 'Cohen\\'s Kappa {:3.2f}'.format(ck))\n",
    "    print(cm_df.head())\n",
    "\n",
    "    # If desired, run stats for the RRA product and a blend of the RRA and the random forest model\n",
    "    if response6 == '2' or len(response6) == 0:\n",
    "        # Stats for RRA\n",
    "        yprob2 = test_df['probabilisticRRA']\n",
    "        y_pred2 = test_df['deterministicRRA']\n",
    "        auc = metrics.roc_auc_score(ytest, yprob2)\n",
    "        brier_score = metrics.brier_score_loss(ytest, yprob2)\n",
    "        accuracy = metrics.accuracy_score(ytest, y_pred2)\n",
    "        cm = metrics.confusion_matrix(ytest, y_pred2)   \n",
    "        cm_df = pd.DataFrame(cm, columns =col_names, index=index_names)\n",
    "        ck = kappa(ytest, y_pred2)\n",
    "        if 'trainingYearsList' in locals():\n",
    "            print('\\nSLC RRA verification for ' + site + ' using the ' + model + ', testing on ' + str(testingYearsList))\n",
    "        else:\n",
    "            print('\\nSLC RRA verification for ' + site + ' using the ' + model + ', testing on ' + str(percentToTest) + '% of the 2011-2018 dataset')\n",
    "        print('--Probabilistic Verification--')\n",
    "        print('Brier Score {:3.2f}, '.format(brier_score) + 'AUC = {:3.2f} '.format(auc))\n",
    "        print('--Deterministic Verification--')\n",
    "        print('Accuracy = {:3.2f}, '.format(accuracy) + 'Cohen\\'s Kappa {:3.2f}'.format(ck))\n",
    "        print(cm_df.head())\n",
    "\n",
    "        # Stats for blend of RRA and random forest model\n",
    "        yprob3 = (test_df['probabilisticRRA'] + yprob)/2\n",
    "        y_pred3 = round(yprob3)\n",
    "        auc = metrics.roc_auc_score(ytest, yprob3)\n",
    "        brier_score = metrics.brier_score_loss(ytest, yprob3)\n",
    "        accuracy = metrics.accuracy_score(ytest, y_pred3)\n",
    "        cm = metrics.confusion_matrix(ytest, y_pred3)   \n",
    "        cm_df = pd.DataFrame(cm, columns =col_names, index=index_names)\n",
    "        ck = kappa(ytest, y_pred3)\n",
    "        if 'trainingYearsList' in locals():   \n",
    "            print('\\nSLC combined verification for ' + site + ' using the ' + model + ', testing on ' + str(testingYearsList))\n",
    "        else:\n",
    "            print('\\nSLC combined verification for ' + site + ', testing on ' + str(percentToTest) + '% of the 2011-2018 dataset')\n",
    "        print('--Probabilistic Verification--')\n",
    "        print('Brier Score {:3.2f}, '.format(brier_score) + 'AUC = {:3.2f} '.format(auc))\n",
    "        print('--Deterministic Verification--')\n",
    "        print('Accuracy = {:3.2f}, '.format(accuracy) + 'Cohen\\'s Kappa {:3.2f}'.format(ck))\n",
    "        print(cm_df.head())\n",
    "\n",
    "    print('\\n\\n')\n",
    "\n",
    "    # Save to a pickle file if desired\n",
    "    if response8 == '1':\n",
    "        pickle.dump(clf, open(saveFile, 'wb'))\n",
    "    \n",
    "    # Create plots\n",
    "    createReliabilityPlots(site, response5, response6, ytest, yprob, yprob2, yprob3)    \n"
   ]
  },
  {
   "cell_type": "code",
   "execution_count": null,
   "metadata": {},
   "outputs": [],
   "source": []
  }
 ],
 "metadata": {
  "kernelspec": {
   "display_name": "Python 3",
   "language": "python",
   "name": "python3"
  },
  "language_info": {
   "codemirror_mode": {
    "name": "ipython",
    "version": 3
   },
   "file_extension": ".py",
   "mimetype": "text/x-python",
   "name": "python",
   "nbconvert_exporter": "python",
   "pygments_lexer": "ipython3",
   "version": "3.6.10"
  }
 },
 "nbformat": 4,
 "nbformat_minor": 4
}
